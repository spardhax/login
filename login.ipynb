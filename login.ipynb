{
 "cells": [
  {
   "cell_type": "code",
   "execution_count": 9,
   "metadata": {},
   "outputs": [],
   "source": [
    "import numpy\n",
    "from tkinter import*\n",
    "from PIL import Image,ImageTk"
   ]
  },
  {
   "cell_type": "code",
   "execution_count": 12,
   "metadata": {},
   "outputs": [],
   "source": [
    " class Login_System:\n",
    "    def __init__(self,root):\n",
    "        self.root=root\n",
    "        self.root.title(\"Login System\")\n",
    "        self.root.geometry(\"300x1300+0+0\")\n",
    "        \n",
    "        #Images===\n",
    "        self.bg_icon=ImageTk.PhotoImage(file=\"C:/Users/Spardha/Desktop/pyro/back.jpg\")\n",
    "        self.user_icon=PhotoImage(file=\"C:/Users/Spardha/Desktop/pyro/use.png\")\n",
    "        self.pass_icon=ImageTk.PhotoImage(file=\"C:/Users/Spardha/Desktop/pyro/pass.png\")\n",
    "        self.logo_icon=ImageTk.PhotoImage(file=\"C:/Users/Spardha/Desktop/pyro/red.png\")\n",
    "        \n",
    "        bg_lbl=Label(self.root,image=self.bg_icon).pack()\n",
    "        title=Label(self.root,text=\"Login System\",font=(\"times new roman\",40,\"bold\"),bg=\"yellow\",fg=\"red\",bd=10,relief=GROOVE)\n",
    "        title.place(x=0,y=0,relwidth=1)\n",
    "        \n",
    "        Login_Frame=Frame(self.root,bg=\"white\")\n",
    "        Login_Frame.place(x=400,y=100)\n",
    "        logolbl=Label(Login_Frame,image=self.logo_icon).grid(row=0,columnspan=2,pady=20)\n",
    "        \n",
    "        lbluser=Label(Login_Frame,text=\"Username\",image=self.user_icon,compound=LEFT,font=(\"times new roman\",20,\"bold\"),bg=\"pink\").grid(row=1,column=0,padx=20,pady=10)\n",
    "        txtuser=Entry(Login_Frame,bd=5,relief=GROOVE,font=(\"\",15)).grid(row=1,column=1,padx=20)\n",
    "      \n",
    "        lblpass=Label(Login_Frame,text=\"Password\",image=self.pass_icon,compound=LEFT,font=(\"times new roman\",20,\"bold\"),bg=\"pink\").grid(row=2,column=0,padx=20,pady=10)\n",
    "        txtpass=Entry(Login_Frame,bd=5,relief=GROOVE,font=(\"\",15)).grid(row=2,column=1,padx=20)\n",
    "        \n",
    "        btn_log=Button(Login_Frame,text=\"Login\",width=15,font=(\"times new roman\",14,\"bold\"),bg=\"yellow\",fg=\"red\").grid(row=3,column=1,pady=10)"
   ]
  },
  {
   "cell_type": "code",
   "execution_count": 13,
   "metadata": {},
   "outputs": [],
   "source": [
    "root=Tk()\n",
    "obj=Login_System(root)\n",
    "root.mainloop()"
   ]
  },
  {
   "cell_type": "code",
   "execution_count": null,
   "metadata": {},
   "outputs": [],
   "source": []
  },
  {
   "cell_type": "code",
   "execution_count": null,
   "metadata": {},
   "outputs": [],
   "source": []
  }
 ],
 "metadata": {
  "kernelspec": {
   "display_name": "Python 3",
   "language": "python",
   "name": "python3"
  },
  "language_info": {
   "codemirror_mode": {
    "name": "ipython",
    "version": 3
   },
   "file_extension": ".py",
   "mimetype": "text/x-python",
   "name": "python",
   "nbconvert_exporter": "python",
   "pygments_lexer": "ipython3",
   "version": "3.7.4"
  }
 },
 "nbformat": 4,
 "nbformat_minor": 4
}
